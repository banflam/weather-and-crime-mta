{
 "cells": [
  {
   "cell_type": "markdown",
   "id": "1acb581e-fb9b-49d4-9274-e74ad8df9d14",
   "metadata": {},
   "source": [
    "At the time I conducted this analysis in May 2025, spring was well on its way and summer was breaking out in New York City. Sure, the flowers bloom at this time of the year; but I had also heard that hot weather increases tensions and can bring out the worst in people. "
   ]
  }
 ],
 "metadata": {
  "kernelspec": {
   "display_name": "Python 3 (ipykernel)",
   "language": "python",
   "name": "python3"
  },
  "language_info": {
   "codemirror_mode": {
    "name": "ipython",
    "version": 3
   },
   "file_extension": ".py",
   "mimetype": "text/x-python",
   "name": "python",
   "nbconvert_exporter": "python",
   "pygments_lexer": "ipython3",
   "version": "3.13.3"
  }
 },
 "nbformat": 4,
 "nbformat_minor": 5
}
