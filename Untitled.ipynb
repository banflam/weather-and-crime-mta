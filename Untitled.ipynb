{
 "cells": [
  {
   "cell_type": "markdown",
   "id": "1acb581e-fb9b-49d4-9274-e74ad8df9d14",
   "metadata": {},
   "source": [
    "# WEATHER AND CRIME IN NEW YORK CITY\n",
    "\n",
    "At the time I conducted this analysis in May 2025, spring was well on its way and summer was breaking out in New York City. Sure, the flowers bloom at this time of the year; but I had also heard that hot weather increases tensions and can bring out the worst in people. Using NYC MTA data, could I analyze whether there might be a correlation between the weather and crime? I set out to find out."
   ]
  },
  {
   "cell_type": "markdown",
   "id": "f2b1e01c-a866-4453-ab6b-d080faafe8d8",
   "metadata": {},
   "source": [
    "I first downloaded data from the MTA open data sets at data.ny.gov and also temperature data among others from the NOAA US federal agency for their Central Park station. Since the MTA open data for crimes committed only goes back to 2019 while the weather data goes back to at least 1980, the analysis will be limited to 2019 for the purposes of this Jupyter Notebook."
   ]
  },
  {
   "cell_type": "code",
   "execution_count": 7,
   "id": "cb8cd25c-9b06-4512-b240-34bc7c418aa2",
   "metadata": {},
   "outputs": [
    {
     "data": {
      "text/plain": [
       "(       Month Agency Police Force     Felony Type  Felony Count  \\\n",
       " 0 2019-01-01    MNR        MTAPD        Burglary             1   \n",
       " 1 2019-01-01    MNR        MTAPD  Felony Assault             3   \n",
       " 2 2019-01-01    MNR        MTAPD          Murder             0   \n",
       " 3 2019-01-01    MNR        MTAPD            Rape             0   \n",
       " 4 2019-01-01    MNR        MTAPD         Robbery             1   \n",
       " \n",
       "    Crimes per Million Riders  \n",
       " 0                       0.15  \n",
       " 1                       0.44  \n",
       " 2                       0.00  \n",
       " 3                       0.00  \n",
       " 4                       0.15  ,\n",
       "        STATION                         NAME  LATITUDE  LONGITUDE  ELEVATION  \\\n",
       " 0  USW00094728  NY CITY CENTRAL PARK, NY US  40.77898  -73.96925       42.7   \n",
       " 1  USW00094728  NY CITY CENTRAL PARK, NY US  40.77898  -73.96925       42.7   \n",
       " 2  USW00094728  NY CITY CENTRAL PARK, NY US  40.77898  -73.96925       42.7   \n",
       " 3  USW00094728  NY CITY CENTRAL PARK, NY US  40.77898  -73.96925       42.7   \n",
       " 4  USW00094728  NY CITY CENTRAL PARK, NY US  40.77898  -73.96925       42.7   \n",
       " \n",
       "         DATE  PRCP PRCP_ATTRIBUTES  TAVG TAVG_ATTRIBUTES  TMAX  \\\n",
       " 0 1980-01-01  0.00        ,,0,2400   NaN             NaN    45   \n",
       " 1 1980-01-02  0.00        ,,0,2400   NaN             NaN    42   \n",
       " 2 1980-01-03  0.00        ,,0,2400   NaN             NaN    38   \n",
       " 3 1980-01-04  0.00       T,,0,2400   NaN             NaN    30   \n",
       " 4 1980-01-05  0.07        ,,0,2400   NaN             NaN    32   \n",
       " \n",
       "   TMAX_ATTRIBUTES  TMIN TMIN_ATTRIBUTES  \n",
       " 0             ,,0    34             ,,0  \n",
       " 1             ,,0    34             ,,0  \n",
       " 2             ,,0    28             ,,0  \n",
       " 3             ,,0    21             ,,0  \n",
       " 4             ,,0    26             ,,0  )"
      ]
     },
     "execution_count": 7,
     "metadata": {},
     "output_type": "execute_result"
    }
   ],
   "source": [
    "import pandas as pd\n",
    "import matplotlib.pyplot as plt\n",
    "import seaborn as sns\n",
    "\n",
    "crime = pd.read_csv(\"./MTA_Major_Felonies_20250509.csv\", parse_dates=[\"Month\"])\n",
    "weather = pd.read_csv(\"./weather_noaa.csv\", parse_dates=[\"DATE\"])\n",
    "\n",
    "# have a look at what I've loaded to make sure it makes sense \n",
    "\n",
    "crime.head(), weather.head()"
   ]
  },
  {
   "cell_type": "markdown",
   "id": "23cf006a-d9f3-4eef-8238-5dc52484a330",
   "metadata": {},
   "source": [
    "Since (at least initially) I'm going for a holistic view of all of the data, I'm going to simplify all of these disparate crime (felony) types into just \"Total Crimes\" for a particular month."
   ]
  },
  {
   "cell_type": "code",
   "execution_count": 11,
   "id": "ac026225-6923-4aa8-9c44-65e8f74edaaf",
   "metadata": {},
   "outputs": [
    {
     "data": {
      "text/html": [
       "<div>\n",
       "<style scoped>\n",
       "    .dataframe tbody tr th:only-of-type {\n",
       "        vertical-align: middle;\n",
       "    }\n",
       "\n",
       "    .dataframe tbody tr th {\n",
       "        vertical-align: top;\n",
       "    }\n",
       "\n",
       "    .dataframe thead th {\n",
       "        text-align: right;\n",
       "    }\n",
       "</style>\n",
       "<table border=\"1\" class=\"dataframe\">\n",
       "  <thead>\n",
       "    <tr style=\"text-align: right;\">\n",
       "      <th></th>\n",
       "      <th>Date</th>\n",
       "      <th>Total_Crimes</th>\n",
       "    </tr>\n",
       "  </thead>\n",
       "  <tbody>\n",
       "    <tr>\n",
       "      <th>0</th>\n",
       "      <td>2019-01-01</td>\n",
       "      <td>214</td>\n",
       "    </tr>\n",
       "    <tr>\n",
       "      <th>1</th>\n",
       "      <td>2019-02-01</td>\n",
       "      <td>207</td>\n",
       "    </tr>\n",
       "    <tr>\n",
       "      <th>2</th>\n",
       "      <td>2019-03-01</td>\n",
       "      <td>183</td>\n",
       "    </tr>\n",
       "    <tr>\n",
       "      <th>3</th>\n",
       "      <td>2019-04-01</td>\n",
       "      <td>194</td>\n",
       "    </tr>\n",
       "    <tr>\n",
       "      <th>4</th>\n",
       "      <td>2019-05-01</td>\n",
       "      <td>215</td>\n",
       "    </tr>\n",
       "  </tbody>\n",
       "</table>\n",
       "</div>"
      ],
      "text/plain": [
       "        Date  Total_Crimes\n",
       "0 2019-01-01           214\n",
       "1 2019-02-01           207\n",
       "2 2019-03-01           183\n",
       "3 2019-04-01           194\n",
       "4 2019-05-01           215"
      ]
     },
     "execution_count": 11,
     "metadata": {},
     "output_type": "execute_result"
    }
   ],
   "source": [
    "monthly_crime = crime.groupby(\"Month\")[\"Felony Count\"].sum().reset_index()\n",
    "monthly_crime.columns = [\"Date\", \"Total_Crimes\"]\n",
    "# Let's see how it looks so far\n",
    "monthly_crime.head()"
   ]
  },
  {
   "cell_type": "code",
   "execution_count": null,
   "id": "e6eca021-a522-40e3-88e9-4f303fe288f9",
   "metadata": {},
   "outputs": [],
   "source": []
  }
 ],
 "metadata": {
  "kernelspec": {
   "display_name": "Python 3 (ipykernel)",
   "language": "python",
   "name": "python3"
  },
  "language_info": {
   "codemirror_mode": {
    "name": "ipython",
    "version": 3
   },
   "file_extension": ".py",
   "mimetype": "text/x-python",
   "name": "python",
   "nbconvert_exporter": "python",
   "pygments_lexer": "ipython3",
   "version": "3.13.3"
  }
 },
 "nbformat": 4,
 "nbformat_minor": 5
}
