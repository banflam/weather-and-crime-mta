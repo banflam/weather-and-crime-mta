{
 "cells": [
  {
   "cell_type": "markdown",
   "id": "1acb581e-fb9b-49d4-9274-e74ad8df9d14",
   "metadata": {},
   "source": [
    "# WEATHER AND CRIME IN NEW YORK CITY\n",
    "\n",
    "At the time I conducted this analysis in May 2025, spring was well on its way and summer was breaking out in New York City. Sure, the flowers bloom at this time of the year; but I had also heard that hot weather increases tensions and can bring out the worst in people. Using NYC MTA data, could I analyze whether there might be a correlation between the weather and crime? I set out to find out."
   ]
  },
  {
   "cell_type": "code",
   "execution_count": null,
   "id": "5bf97059-2407-4c2d-8a0a-c7b8dc08e29d",
   "metadata": {},
   "outputs": [],
   "source": [
    "import pandas as pd\n",
    "import matplotlib.pyplot as plt\n",
    "import seaborn as sns"
   ]
  },
  {
   "cell_type": "markdown",
   "id": "f2b1e01c-a866-4453-ab6b-d080faafe8d8",
   "metadata": {},
   "source": [
    "I first downloaded data from the MTA open data sets at data.ny.gov and also temperature data among others from the NOAA US federal agency for their Central Park station. Since the MTA open data for crimes committed only goes back to 2019 while the weather data goes back to at least 1980, the analysis will be limited to 2019 for the purposes of this Jupyter Notebook."
   ]
  },
  {
   "cell_type": "code",
   "execution_count": 3,
   "id": "cb8cd25c-9b06-4512-b240-34bc7c418aa2",
   "metadata": {},
   "outputs": [
    {
     "ename": "SyntaxError",
     "evalue": "invalid syntax (1743929284.py, line 2)",
     "output_type": "error",
     "traceback": [
      "  \u001b[36mCell\u001b[39m\u001b[36m \u001b[39m\u001b[32mIn[3]\u001b[39m\u001b[32m, line 2\u001b[39m\n\u001b[31m    \u001b[39m\u001b[31mweather = pdf.read_csv(\"./weather_noaa.csv\", parse_dates=[\"DATE\"])%%!\u001b[39m\n                                                                       ^\n\u001b[31mSyntaxError\u001b[39m\u001b[31m:\u001b[39m invalid syntax\n"
     ]
    }
   ],
   "source": [
    "crime = pd.read_csv(\"./MTA_Major_Felonies_20250509.csv\", parse_dates=[\"Month\"])\n",
    "weather = pdf.read_csv(\"./weather_noaa.csv\", parse_dates=[\"DATE\"])%%!\n",
    "\n",
    "# have a look at what I've loaded to make sure it makes sense \n",
    "\n",
    "crime.head(), weather.head()"
   ]
  },
  {
   "cell_type": "code",
   "execution_count": null,
   "id": "13e19f2b-9f18-4b79-a0ad-783ef9bd6415",
   "metadata": {},
   "outputs": [],
   "source": []
  }
 ],
 "metadata": {
  "kernelspec": {
   "display_name": "Python 3 (ipykernel)",
   "language": "python",
   "name": "python3"
  },
  "language_info": {
   "codemirror_mode": {
    "name": "ipython",
    "version": 3
   },
   "file_extension": ".py",
   "mimetype": "text/x-python",
   "name": "python",
   "nbconvert_exporter": "python",
   "pygments_lexer": "ipython3",
   "version": "3.13.3"
  }
 },
 "nbformat": 4,
 "nbformat_minor": 5
}
